{
 "cells": [
  {
   "cell_type": "code",
   "execution_count": 5,
   "metadata": {},
   "outputs": [],
   "source": [
    "class Animals:\n",
    "    \n",
    "    def __init__(self, name):\n",
    "        self.name = name\n",
    "        \n",
    "        \n",
    "    def makeNoise(self):\n",
    "        print(\"My type is \", self.__class__.__name__, self.name, \" Making Noise\", sep =\" \")\n",
    "\n",
    "    def sleep(self):\n",
    "        print(\"My type is \", self.__class__.__name__, self.name, \" Going to sleep\", sep =\" \")\n",
    "        \n",
    "    def eat(self):\n",
    "        print(\"My type is \", self.__class__.__name__, self.name, \" Eating my meal\", sep =\" \")\n",
    "\n",
    "    def roam(self):\n",
    "        print(\"My type is \", self.__class__.__name__, self.name, \" Moving around\", sep =\" \")\n",
    "\n",
    "    def wakingUp(self):\n",
    "        print(\"My type is \",  self.__class__.__name__, self.name, \"good morning\", sep =\" \")"
   ]
  }
 ],
 "metadata": {
  "kernelspec": {
   "display_name": "Python 3",
   "language": "python",
   "name": "python3"
  },
  "language_info": {
   "codemirror_mode": {
    "name": "ipython",
    "version": 3
   },
   "file_extension": ".py",
   "mimetype": "text/x-python",
   "name": "python",
   "nbconvert_exporter": "python",
   "pygments_lexer": "ipython3",
   "version": "3.7.3"
  }
 },
 "nbformat": 4,
 "nbformat_minor": 2
}
