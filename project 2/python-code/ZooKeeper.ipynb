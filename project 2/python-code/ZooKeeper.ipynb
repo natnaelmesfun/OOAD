{
 "cells": [
  {
   "cell_type": "code",
   "execution_count": 3,
   "metadata": {},
   "outputs": [],
   "source": [
    "class ZooKeeper:\n",
    "#     Zoo keeper performs his duty through different methods listed below.\n",
    "#     Each method takes it animal object as a parameter so it can ask corresponding move for animals to behave\n",
    "#     when Zoo Keeper executes certain action.\n",
    "\n",
    "\n",
    "    def wake(animal):\n",
    "        print(\"wake animals\")\n",
    "        animal.wakingUp()\n",
    "\n",
    "    def rollCall(animal):\n",
    "        print(\"Calling animals\")\n",
    "        animal.makeNoise()\n",
    "\n",
    "    def feed(animal):\n",
    "        print(\"feed animals\")\n",
    "        animal.eat()\n",
    "\n",
    "    def exercise(animal):\n",
    "        print(\"exercise animals\")\n",
    "        animal.roam()\n",
    "\n",
    "    def shut(animal):\n",
    "        print(\"Shut the zoo\")\n",
    "        animal.sleep()\n"
   ]
  }
 ],
 "metadata": {
  "kernelspec": {
   "display_name": "Python 3",
   "language": "python",
   "name": "python3"
  },
  "language_info": {
   "codemirror_mode": {
    "name": "ipython",
    "version": 3
   },
   "file_extension": ".py",
   "mimetype": "text/x-python",
   "name": "python",
   "nbconvert_exporter": "python",
   "pygments_lexer": "ipython3",
   "version": "3.7.3"
  }
 },
 "nbformat": 4,
 "nbformat_minor": 2
}
