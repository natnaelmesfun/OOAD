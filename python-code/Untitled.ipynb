{
 "cells": [
  {
   "cell_type": "code",
   "execution_count": null,
   "metadata": {},
   "outputs": [],
   "source": [
    "from Animals import Animals\n",
    "\n",
    "class Noise_behaviour(Animals):\n",
    "        \n",
    "        \n",
    "    def forCat(self):\n",
    "        print(\"Calling animals\")\n",
    "        \n",
    "    def forLion(self):\n",
    "        print(\"Calling animals\")\n",
    "        \n",
    "    def forFeline(self):\n",
    "        print(\"Feline making noise\")\n",
    "\n",
    "        \n",
    "    \n",
    "    \n",
    "    "
   ]
  }
 ],
 "metadata": {
  "kernelspec": {
   "display_name": "Python 3",
   "language": "python",
   "name": "python3"
  },
  "language_info": {
   "codemirror_mode": {
    "name": "ipython",
    "version": 3
   },
   "file_extension": ".py",
   "mimetype": "text/x-python",
   "name": "python",
   "nbconvert_exporter": "python",
   "pygments_lexer": "ipython3",
   "version": "3.7.3"
  }
 },
 "nbformat": 4,
 "nbformat_minor": 2
}
